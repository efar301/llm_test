{
 "cells": [
  {
   "cell_type": "code",
   "execution_count": 1,
   "metadata": {},
   "outputs": [
    {
     "name": "stderr",
     "output_type": "stream",
     "text": [
      "c:\\Users\\farns\\anaconda3\\envs\\transformer\\Lib\\site-packages\\tqdm\\auto.py:21: TqdmWarning: IProgress not found. Please update jupyter and ipywidgets. See https://ipywidgets.readthedocs.io/en/stable/user_install.html\n",
      "  from .autonotebook import tqdm as notebook_tqdm\n"
     ]
    },
    {
     "name": "stdout",
     "output_type": "stream",
     "text": [
      "cuda\n"
     ]
    },
    {
     "data": {
      "text/plain": [
       "True"
      ]
     },
     "execution_count": 1,
     "metadata": {},
     "output_type": "execute_result"
    }
   ],
   "source": [
    "from transformers import AutoTokenizer, DistilBertForSequenceClassification, Trainer, TrainingArguments\n",
    "from datasets import load_dataset\n",
    "import torch\n",
    "import torch.nn as nn\n",
    "import os\n",
    "from dotenv import load_dotenv\n",
    "import numpy as np\n",
    "from tqdm import tqdm\n",
    "from torch.utils.data import Dataset, DataLoader\n",
    "from huggingface_hub import HfApi\n",
    "import re\n",
    "\n",
    "device = torch.device('cuda' if torch.cuda.is_available() else 'cpu')\n",
    "print(device)\n",
    "load_dotenv()\n"
   ]
  },
  {
   "cell_type": "code",
   "execution_count": null,
   "metadata": {},
   "outputs": [],
   "source": [
    "word_subs = { \n",
    "    'can\\'t': 'cannot',\n",
    "    'won\\'t': 'will not',\n",
    "    'shouldn\\'t': 'should not',\n",
    "    'wouldn\\'t': 'would not',\n",
    "    'haven\\'t': 'have not',\n",
    "    'he\\'ll': 'he will',\n",
    "    'she\\'ll': 'she will',\n",
    "    'they\\'ll': 'they will',\n",
    "    'aren\\'t': 'are not',\n",
    "    'isn\\'t': 'is not',\n",
    "    'wasn\\'t': 'was not',\n",
    "    'weren\\'t': 'were not',\n",
    "    'doesn\\'t': 'does not',\n",
    "    'don\\'t': 'do not',\n",
    "    'didn\\'t': 'did not',\n",
    "    'hasn\\'t': 'has not',\n",
    "    'hadn\\'t': 'had not',\n",
    "    'is\\'nt': 'is not',\n",
    "    'it\\'s': 'it is',\n",
    "    'that\\'s': 'that is',\n",
    "    'who\\'s': 'who is',\n",
    "    'what\\'s': 'what is',\n",
    "    'here\\'s': 'here is',\n",
    "    'there\\'s': 'there is',\n",
    "    'let\\'s': 'let us',\n",
    "    'i\\'ll': 'i will',\n",
    "    'you\\'ll': 'you will',\n",
    "    'we\\'ll': 'we will',\n",
    "    'i\\'ve': 'i have',\n",
    "    'you\\'ve': 'you have',\n",
    "    'we\\'ve': 'we have',\n",
    "    'they\\'ve': 'they have',\n",
    "    'i\\'d': 'i would',\n",
    "    'you\\'d': 'you would',\n",
    "    'he\\'d': 'he would',\n",
    "    'she\\'d': 'she would',\n",
    "    'we\\'d': 'we would',\n",
    "    'they\\'d': 'they would',\n",
    "    'i\\'m': 'i am',\n",
    "    'you\\'re': 'you are',\n",
    "    'he\\'s': 'he is',\n",
    "    'she\\'s': 'she is',\n",
    "    'we\\'re': 'we are',\n",
    "    'they\\'re': 'they are',\n",
    "    'you\\'ve': 'you have',\n",
    "    'we\\'ve': 'we have',\n",
    "    'they\\'ve': 'they have',\n",
    "    'wtf': 'what the fuck',\n",
    "    'brb': 'be right back',\n",
    "    'btw': 'by the way',\n",
    "    'idk': 'I don\\'t know',\n",
    "    'lol': 'laugh out loud',\n",
    "    'smh': 'shaking my head',\n",
    "    'omg': 'oh my god',\n",
    "    'lmao': 'laughing my ass off',\n",
    "    'rofl': 'rolling on the floor laughing',\n",
    "    'tbh': 'to be honest',\n",
    "    'fyi': 'for your information',\n",
    "    'tmi': 'too much information',\n",
    "    'asap': 'as soon as possible',\n",
    "    'np': 'no problem',\n",
    "    'yolo': 'you only live once',\n",
    "    'bff': 'best friends forever',\n",
    "    'bbl': 'be back later',\n",
    "    'gtg': 'got to go',\n",
    "    'ttyl': 'talk to you later',\n",
    "    'omfg': 'oh my fucking god',\n",
    "    'fml': 'fuck my life',\n",
    "    'dm': 'direct message',\n",
    "    'tl;dr': 'too long; didn\\'t read',\n",
    "    'nvm': 'never mind',\n",
    "    'l8r': 'later',\n",
    "    '2moro': 'tomorrow',\n",
    "    'cya': 'see you',\n",
    "    'bday': 'birthday'\n",
    "}\n",
    "\n",
    "def replace_words(text, word_subs):\n",
    "    pattern = re.compile(r'\\b(' + '|'.join(word_subs.keys()) + r')\\b')\n",
    "    return pattern.sub(lambda x: word_subs[x.group(0)], text)"
   ]
  },
  {
   "cell_type": "code",
   "execution_count": 3,
   "metadata": {},
   "outputs": [],
   "source": [
    "train_dataset = load_dataset('go_emotions', split='train')\n",
    "test_dataset = load_dataset('go_emotions', split='test')\n",
    "\n",
    "train_dataset[0]\n",
    "\n",
    "class CustomDataset(Dataset):\n",
    "    def __init__(self, input_ids, attention_masks, labels):\n",
    "        self.input_ids = input_ids\n",
    "        self.attention_masks = attention_masks\n",
    "        self.labels = labels\n",
    "    \n",
    "    def __len__(self):\n",
    "        return len(self.input_ids)\n",
    "    \n",
    "    def __getitem__(self, idx):\n",
    "        return {\n",
    "            'input_ids': self.input_ids[idx],\n",
    "            'attention_mask': self.attention_masks[idx],\n",
    "            'labels': self.labels[idx]\n",
    "        }"
   ]
  },
  {
   "cell_type": "code",
   "execution_count": 4,
   "metadata": {},
   "outputs": [
    {
     "name": "stderr",
     "output_type": "stream",
     "text": [
      "100%|██████████| 43410/43410 [00:23<00:00, 1815.91it/s]\n",
      "100%|██████████| 5427/5427 [00:02<00:00, 1851.80it/s]\n"
     ]
    }
   ],
   "source": [
    "tokenizer = AutoTokenizer.from_pretrained('distilbert-base-uncased')\n",
    "\n",
    "def convert_to_multihot(label_list, num_labels):\n",
    "    multihot = torch.zeros(num_labels)\n",
    "    \n",
    "    for label in label_list:\n",
    "        multihot[label] = 1\n",
    "    \n",
    "    return multihot\n",
    "\n",
    "def tokenize_and_encode_dataset(dataset, num_labels=28):\n",
    "    # Initialize lists to hold inputs and labels\n",
    "    input_ids = []\n",
    "    attention_masks = []\n",
    "    labels = []\n",
    "    \n",
    "    # Iterate over the dataset and tokenize each sample\n",
    "    for i in tqdm(range(len(dataset))):\n",
    "        \n",
    "        text_to_clean = dataset[i]['text']\n",
    "        cleaned_text = replace_words(text_to_clean, word_subs)\n",
    "        \n",
    "        tokenized_input = tokenizer(\n",
    "            cleaned_text,\n",
    "            padding='max_length',\n",
    "            truncation=True,\n",
    "            max_length=512,\n",
    "            return_tensors='pt'\n",
    "        )\n",
    "        \n",
    "        # Convert the labels to multihot encoding\n",
    "        multihot_labels = convert_to_multihot(\n",
    "            dataset[i]['labels'],\n",
    "            num_labels=num_labels\n",
    "        )\n",
    "        \n",
    "        # Append the data to the lists\n",
    "        input_ids.append(tokenized_input['input_ids'].squeeze(0))\n",
    "        attention_masks.append(tokenized_input['attention_mask'].squeeze(0))\n",
    "        labels.append(multihot_labels)\n",
    "    \n",
    "    # Convert lists to tensors\n",
    "    input_ids = torch.stack(input_ids)\n",
    "    attention_masks = torch.stack(attention_masks)\n",
    "    labels = torch.stack(labels)\n",
    "    \n",
    "    # Create a custom Dataset\n",
    "    dataset_tensor = CustomDataset(input_ids, attention_masks, labels)\n",
    "    \n",
    "    return dataset_tensor\n",
    "        \n",
    "training = tokenize_and_encode_dataset(train_dataset)\n",
    "testing = tokenize_and_encode_dataset(test_dataset)"
   ]
  },
  {
   "cell_type": "code",
   "execution_count": 5,
   "metadata": {},
   "outputs": [
    {
     "name": "stdout",
     "output_type": "stream",
     "text": [
      "{'input_ids': [101, 2026, 8837, 2833, 2003, 2505, 1045, 2134, 1005, 1056, 2031, 2000, 5660, 2870, 1012, 102], 'attention_mask': [1, 1, 1, 1, 1, 1, 1, 1, 1, 1, 1, 1, 1, 1, 1, 1]}\n",
      "My favourite food is anything I didn't have to cook myself.\n"
     ]
    }
   ],
   "source": [
    "print(tokenizer(train_dataset[0]['text']))\n",
    "print(train_dataset[0]['text'])"
   ]
  },
  {
   "cell_type": "code",
   "execution_count": 6,
   "metadata": {},
   "outputs": [
    {
     "name": "stderr",
     "output_type": "stream",
     "text": [
      "Some weights of DistilBertForSequenceClassification were not initialized from the model checkpoint at distilbert-base-uncased and are newly initialized: ['classifier.bias', 'classifier.weight', 'pre_classifier.bias', 'pre_classifier.weight']\n",
      "You should probably TRAIN this model on a down-stream task to be able to use it for predictions and inference.\n"
     ]
    }
   ],
   "source": [
    "base_model = DistilBertForSequenceClassification.from_pretrained(\n",
    "    'distilbert-base-uncased', \n",
    "    num_labels=28, \n",
    "    problem_type='multi_label_classification',\n",
    "    )\n",
    "\n",
    "model = base_model.to(device)"
   ]
  },
  {
   "cell_type": "code",
   "execution_count": 7,
   "metadata": {},
   "outputs": [],
   "source": [
    "torch.compile(model)\n",
    "\n",
    "training_args = TrainingArguments(\n",
    "    output_dir='./results',\n",
    "    eval_strategy='steps',\n",
    "    eval_steps=500,\n",
    "    save_strategy='steps',\n",
    "    save_steps=500,\n",
    "    learning_rate=2e-5,\n",
    "    per_device_train_batch_size=30,\n",
    "    per_device_eval_batch_size=30,\n",
    "    num_train_epochs=3,\n",
    "    weight_decay=.01,\n",
    "    logging_dir='./logs',\n",
    "    logging_steps=500,\n",
    "    logging_strategy='epoch',\n",
    "    load_best_model_at_end=True,\n",
    "    gradient_accumulation_steps=4,\n",
    "    fp16=True\n",
    ")\n",
    "\n",
    "trainer = Trainer(\n",
    "    model=model,\n",
    "    args=training_args,\n",
    "    train_dataset=training,\n",
    "    eval_dataset=testing\n",
    ")"
   ]
  },
  {
   "cell_type": "code",
   "execution_count": 8,
   "metadata": {},
   "outputs": [
    {
     "name": "stderr",
     "output_type": "stream",
     "text": [
      " 33%|███▎      | 361/1083 [05:24<09:38,  1.25it/s]"
     ]
    },
    {
     "name": "stdout",
     "output_type": "stream",
     "text": [
      "{'loss': 0.2099, 'grad_norm': 0.6607567667961121, 'learning_rate': 1.3333333333333333e-05, 'epoch': 1.0}\n"
     ]
    },
    {
     "name": "stderr",
     "output_type": "stream",
     "text": [
      "                                                  \n",
      " 46%|████▌     | 500/1083 [07:25<07:47,  1.25it/s]"
     ]
    },
    {
     "name": "stdout",
     "output_type": "stream",
     "text": [
      "{'eval_loss': 0.10677764564752579, 'eval_runtime': 9.9292, 'eval_samples_per_second': 546.568, 'eval_steps_per_second': 18.229, 'epoch': 1.38}\n"
     ]
    },
    {
     "name": "stderr",
     "output_type": "stream",
     "text": [
      " 67%|██████▋   | 723/1083 [11:15<16:26,  2.74s/it]"
     ]
    },
    {
     "name": "stdout",
     "output_type": "stream",
     "text": [
      "{'loss': 0.1088, 'grad_norm': 0.6569858193397522, 'learning_rate': 6.6481994459833796e-06, 'epoch': 2.0}\n"
     ]
    },
    {
     "name": "stderr",
     "output_type": "stream",
     "text": [
      "                                                   \n",
      " 92%|█████████▏| 1000/1083 [15:36<01:12,  1.14it/s]"
     ]
    },
    {
     "name": "stdout",
     "output_type": "stream",
     "text": [
      "{'eval_loss': 0.09499209374189377, 'eval_runtime': 10.6894, 'eval_samples_per_second': 507.699, 'eval_steps_per_second': 16.933, 'epoch': 2.77}\n"
     ]
    },
    {
     "name": "stderr",
     "output_type": "stream",
     "text": [
      "100%|██████████| 1083/1083 [16:49<00:00,  1.07it/s]"
     ]
    },
    {
     "name": "stdout",
     "output_type": "stream",
     "text": [
      "{'loss': 0.0972, 'grad_norm': 0.6781384348869324, 'learning_rate': 0.0, 'epoch': 3.0}\n",
      "{'train_runtime': 1009.7368, 'train_samples_per_second': 128.974, 'train_steps_per_second': 1.073, 'train_loss': 0.13864698964803174, 'epoch': 3.0}\n"
     ]
    },
    {
     "name": "stderr",
     "output_type": "stream",
     "text": [
      "\n"
     ]
    },
    {
     "data": {
      "text/plain": [
       "TrainOutput(global_step=1083, training_loss=0.13864698964803174, metrics={'train_runtime': 1009.7368, 'train_samples_per_second': 128.974, 'train_steps_per_second': 1.073, 'total_flos': 1.722344547631104e+16, 'train_loss': 0.13864698964803174, 'epoch': 2.995162404975812})"
      ]
     },
     "execution_count": 8,
     "metadata": {},
     "output_type": "execute_result"
    }
   ],
   "source": [
    "trainer.train()"
   ]
  },
  {
   "cell_type": "code",
   "execution_count": 13,
   "metadata": {},
   "outputs": [],
   "source": [
    "trainer.save_model('./saved_model')"
   ]
  }
 ],
 "metadata": {
  "kernelspec": {
   "display_name": "transformer",
   "language": "python",
   "name": "python3"
  },
  "language_info": {
   "codemirror_mode": {
    "name": "ipython",
    "version": 3
   },
   "file_extension": ".py",
   "mimetype": "text/x-python",
   "name": "python",
   "nbconvert_exporter": "python",
   "pygments_lexer": "ipython3",
   "version": "3.12.7"
  },
  "orig_nbformat": 4
 },
 "nbformat": 4,
 "nbformat_minor": 2
}
